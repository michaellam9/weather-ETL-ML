{
 "cells": [
  {
   "cell_type": "code",
   "execution_count": null,
   "metadata": {
    "collapsed": true
   },
   "outputs": [],
   "source": [
    "import pandas as pd\n",
    "import matplotlib.pyplot as plt\n",
    "from PIL import Image\n",
    "from sklearn.pipeline import make_pipeline\n",
    "from sklearn.svm import SVC\n",
    "from sklearn.decomposition import PCA\n",
    "from sklearn.model_selection import train_test_split\n",
    "from sklearn.naive_bayes import GaussianNB\n",
    "from sklearn.neighbors import KNeighborsClassifier\n",
    "import numpy as np\n",
    "import time\n",
    "\n",
    "data = pd.read_csv('cleaned_data.csv')\n",
    "\n",
    "def img_to_nparray(path):\n",
    "    img = np.array(Image.open(path).convert('I'))\n",
    "    img = img.reshape(img.shape[0]*img.shape[1])\n",
    "    return img"
   ]
  },
  {
   "cell_type": "code",
   "execution_count": null,
   "metadata": {},
   "outputs": [],
   "source": [
    "y = data['Weather']\n",
    "X = np.array([img_to_nparray(fname) for fname in data['Path']])"
   ]
  },
  {
   "cell_type": "code",
   "execution_count": null,
   "metadata": {
    "collapsed": true
   },
   "outputs": [],
   "source": [
    "X_train, X_test, y_train, y_test = train_test_split(X,y, train_size=0.5)"
   ]
  },
  {
   "cell_type": "code",
   "execution_count": null,
   "metadata": {},
   "outputs": [],
   "source": [
    "t0 = time.time()\n",
    "model_SVC = make_pipeline(\n",
    "    PCA(250),\n",
    "    SVC(kernel='linear', C=0.001))\n",
    "model_SVC.fit(X_train, y_train)\n",
    "print(model_SVC.score(X_test, y_test))\n",
    "t1 = time.time()\n",
    "print('SVC time = {}'.format(t1-t0))"
   ]
  },
  {
   "cell_type": "code",
   "execution_count": null,
   "metadata": {},
   "outputs": [],
   "source": [
    "t0 = time.time()\n",
    "model_Gaussian = GaussianNB()\n",
    "model_Gaussian.fit(X_train, y_train)\n",
    "model_Gaussian.score(X_test, y_test)\n",
    "t1 = time.time()\n",
    "print('Gaussian time = {}'.format(t1-t0))"
   ]
  },
  {
   "cell_type": "code",
   "execution_count": null,
   "metadata": {},
   "outputs": [],
   "source": [
    "#KNN takes too long too run, but can try it anyways\n",
    "#model_Knn = KNeighborsClassifier()\n",
    "#model_Knn.fit(X_train, y_train)\n",
    "#model_Knn.score(X_test,y_test)"
   ]
  },
  {
   "cell_type": "code",
   "execution_count": null,
   "metadata": {},
   "outputs": [],
   "source": [
    "for i in range(100,300,10):\n",
    "    prediction = model_SVC.predict(img_to_nparray(data['Path'][i]))[0]\n",
    "    actual = data['Weather'][i]\n",
    "    img = np.array(Image.open(data['Path'][i]))\n",
    "    print(prediction)\n",
    "    print(actual)\n",
    "    plt.imshow(img)\n",
    "    plt.show()"
   ]
  },
  {
   "cell_type": "code",
   "execution_count": null,
   "metadata": {
    "collapsed": true
   },
   "outputs": [],
   "source": []
  }
 ],
 "metadata": {
  "kernelspec": {
   "display_name": "Python 3",
   "language": "python",
   "name": "python3"
  },
  "language_info": {
   "codemirror_mode": {
    "name": "ipython",
    "version": 3
   },
   "file_extension": ".py",
   "mimetype": "text/x-python",
   "name": "python",
   "nbconvert_exporter": "python",
   "pygments_lexer": "ipython3",
   "version": "3.6.1"
  }
 },
 "nbformat": 4,
 "nbformat_minor": 2
}
