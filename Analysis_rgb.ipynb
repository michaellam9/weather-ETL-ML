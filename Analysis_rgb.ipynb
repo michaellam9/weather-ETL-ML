{
 "cells": [
  {
   "cell_type": "code",
   "execution_count": 1,
   "metadata": {},
   "outputs": [],
   "source": [
    "import pandas as pd\n",
    "import matplotlib.pyplot as plt\n",
    "from PIL import Image\n",
    "from sklearn.pipeline import make_pipeline\n",
    "from sklearn.svm import SVC\n",
    "from sklearn.decomposition import PCA\n",
    "from sklearn.model_selection import train_test_split\n",
    "from sklearn.naive_bayes import GaussianNB\n",
    "from sklearn.neighbors import KNeighborsClassifier\n",
    "import numpy as np\n",
    "import time\n",
    "\n",
    "data = pd.read_csv('cleaned_data.csv')\n",
    "\n",
    "def img_to_nparray(path):\n",
    "    img = np.array(Image.open(path))\n",
    "    img = img.reshape(img.shape[0]*img.shape[1]*3)\n",
    "    return img"
   ]
  },
  {
   "cell_type": "code",
   "execution_count": null,
   "metadata": {},
   "outputs": [],
   "source": []
  },
  {
   "cell_type": "code",
   "execution_count": 2,
   "metadata": {},
   "outputs": [],
   "source": [
    "y = data['Weather']\n",
    "X = np.array([img_to_nparray(fname) for fname in data['Path']])\n",
    "\n"
   ]
  },
  {
   "cell_type": "code",
   "execution_count": 3,
   "metadata": {},
   "outputs": [],
   "source": [
    "X_train, X_test, y_train, y_test = train_test_split(X,y)#, train_size=0.5, test_size=0.5)"
   ]
  },
  {
   "cell_type": "code",
   "execution_count": 4,
   "metadata": {},
   "outputs": [
    {
     "name": "stdout",
     "output_type": "stream",
     "text": [
      "PCA time = 223.8080689907074\n"
     ]
    }
   ],
   "source": [
    "# run this cell only if you want PCA!\n",
    "\n",
    "t0 = time.time()\n",
    "\n",
    "pca = PCA(250)\n",
    "X_train = pca.fit_transform(X_train)\n",
    "X_test = pca.fit_transform(X_test)\n",
    "\n",
    "t1 = time.time()\n",
    "print('PCA time = {}'.format(t1-t0))"
   ]
  },
  {
   "cell_type": "code",
   "execution_count": 5,
   "metadata": {},
   "outputs": [
    {
     "data": {
      "text/plain": [
       "0.99401837357060074"
      ]
     },
     "execution_count": 5,
     "metadata": {},
     "output_type": "execute_result"
    }
   ],
   "source": [
    "variance = pca.explained_variance_ratio_\n",
    "total = 0\n",
    "for i in range(len(variance)):\n",
    "    total = total + variance[i]\n",
    "\n",
    "total"
   ]
  },
  {
   "cell_type": "code",
   "execution_count": null,
   "metadata": {
    "scrolled": true
   },
   "outputs": [],
   "source": [
    "variance"
   ]
  },
  {
   "cell_type": "code",
   "execution_count": null,
   "metadata": {},
   "outputs": [],
   "source": [
    "# if you ran PCA, 2nd value should be changed, otherwise should be 147456\n",
    "X_train.shape"
   ]
  },
  {
   "cell_type": "code",
   "execution_count": null,
   "metadata": {},
   "outputs": [],
   "source": [
    "X.shape"
   ]
  },
  {
   "cell_type": "code",
   "execution_count": null,
   "metadata": {},
   "outputs": [],
   "source": [
    "t0 = time.time()\n",
    "model_SVC = make_pipeline(\n",
    "#     PCA(250) # comment this line if you already PCA'd\n",
    "    SVC(kernel='linear', C=0.001))\n",
    "model_SVC.fit(X_train, y_train)\n",
    "print(model_SVC.score(X_test, y_test))\n",
    "t1 = time.time()\n",
    "print('SVC time = {}'.format(t1-t0))"
   ]
  },
  {
   "cell_type": "code",
   "execution_count": null,
   "metadata": {},
   "outputs": [],
   "source": [
    "# train_size and test_size = 0.1\n",
    "\n",
    "# pca(250)\n",
    "# 0.05s, 0.559\n",
    "# 0.07s, 0.553\n",
    "# 0.573\n",
    "\n",
    "# pca(12)\n",
    "# 10.7s, 0.498\n",
    "# 19.5s, 0.508\n",
    "\n",
    "# 54.7s with pca(2), score 0.593\n",
    "# 124.0s, 0.597\n",
    "\n",
    "# 31.0s w/o pca, score 0.620\n",
    "# 30.9s, 0.600\n",
    "\n",
    "# 32.3s, 0.644"
   ]
  },
  {
   "cell_type": "code",
   "execution_count": null,
   "metadata": {},
   "outputs": [],
   "source": [
    "t0 = time.time()\n",
    "model_Gaussian = GaussianNB()\n",
    "model_Gaussian.fit(X_train, y_train)\n",
    "model_Gaussian.score(X_test, y_test)\n",
    "t1 = time.time()\n",
    "print('Gaussian time = {}'.format(t1-t0))"
   ]
  },
  {
   "cell_type": "code",
   "execution_count": null,
   "metadata": {},
   "outputs": [],
   "source": [
    "#KNN takes too long too run, but can try it anyways\n",
    "#model_Knn = KNeighborsClassifier()\n",
    "#model_Knn.fit(X_train, y_train)\n",
    "#model_Knn.score(X_test,y_test)"
   ]
  },
  {
   "cell_type": "code",
   "execution_count": null,
   "metadata": {},
   "outputs": [],
   "source": [
    "for i in range(100,300,10):\n",
    "    prediction = model_SVC.predict(img_to_nparray(data['Path'][i]))[0]\n",
    "    actual = data['Weather'][i]\n",
    "    img = np.array(Image.open(data['Path'][i]))\n",
    "    print(prediction)\n",
    "    print(actual)\n",
    "    plt.imshow(img)\n",
    "    plt.show()"
   ]
  },
  {
   "cell_type": "code",
   "execution_count": null,
   "metadata": {},
   "outputs": [],
   "source": []
  }
 ],
 "metadata": {
  "kernelspec": {
   "display_name": "Python 3",
   "language": "python",
   "name": "python3"
  },
  "language_info": {
   "codemirror_mode": {
    "name": "ipython",
    "version": 3
   },
   "file_extension": ".py",
   "mimetype": "text/x-python",
   "name": "python",
   "nbconvert_exporter": "python",
   "pygments_lexer": "ipython3",
   "version": "3.5.2"
  }
 },
 "nbformat": 4,
 "nbformat_minor": 2
}
